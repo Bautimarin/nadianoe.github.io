{
  "nbformat": 4,
  "nbformat_minor": 0,
  "metadata": {
    "colab": {
      "name": "Untitled6.ipynb",
      "provenance": [],
      "collapsed_sections": []
    },
    "kernelspec": {
      "name": "python3",
      "display_name": "Python 3"
    },
    "language_info": {
      "name": "python"
    }
  },
  "cells": [
    {
      "cell_type": "code",
      "metadata": {
        "colab": {
          "base_uri": "https://localhost:8080/",
          "height": 213
        },
        "id": "V1xS_2SdfT4C",
        "outputId": "ea43ac9f-9438-4796-a766-fbdc17762df2"
      },
      "source": [
        "import pandas as pd\n",
        "\n",
        "df1 = pd.read_csv(\"/content/casos.csv\",sep=\",\",engine=\"python\" )\n",
        "\n",
        "df1.head(6)\n",
        "\n"
      ],
      "execution_count": 3,
      "outputs": [
        {
          "output_type": "execute_result",
          "data": {
            "text/html": [
              "<div>\n",
              "<style scoped>\n",
              "    .dataframe tbody tr th:only-of-type {\n",
              "        vertical-align: middle;\n",
              "    }\n",
              "\n",
              "    .dataframe tbody tr th {\n",
              "        vertical-align: top;\n",
              "    }\n",
              "\n",
              "    .dataframe thead th {\n",
              "        text-align: right;\n",
              "    }\n",
              "</style>\n",
              "<table border=\"1\" class=\"dataframe\">\n",
              "  <thead>\n",
              "    <tr style=\"text-align: right;\">\n",
              "      <th></th>\n",
              "      <th>numero_de_caso</th>\n",
              "      <th>fecha_apertura_snvs</th>\n",
              "      <th>fecha_toma_muestra</th>\n",
              "      <th>fecha_clasificacion</th>\n",
              "      <th>provincia</th>\n",
              "      <th>barrio</th>\n",
              "      <th>comuna</th>\n",
              "      <th>genero</th>\n",
              "      <th>edad</th>\n",
              "      <th>clasificacion</th>\n",
              "      <th>fecha_fallecimiento</th>\n",
              "      <th>fallecido</th>\n",
              "      <th>fecha_alta</th>\n",
              "      <th>tipo_contagio</th>\n",
              "    </tr>\n",
              "  </thead>\n",
              "  <tbody>\n",
              "    <tr>\n",
              "      <th>596</th>\n",
              "      <td>5286275</td>\n",
              "      <td>15DEC2020:00:00:00.000000</td>\n",
              "      <td>15DEC2020:00:00:00.000000</td>\n",
              "      <td>15DEC2020:00:00:00.000000</td>\n",
              "      <td>Buenos Aires</td>\n",
              "      <td>NaN</td>\n",
              "      <td>NaN</td>\n",
              "      <td>femenino</td>\n",
              "      <td>86</td>\n",
              "      <td>confirmado</td>\n",
              "      <td>NaN</td>\n",
              "      <td>NaN</td>\n",
              "      <td>20DEC2020:00:00:00.000000</td>\n",
              "      <td>Comunitario</td>\n",
              "    </tr>\n",
              "    <tr>\n",
              "      <th>597</th>\n",
              "      <td>5287632</td>\n",
              "      <td>15DEC2020:00:00:00.000000</td>\n",
              "      <td>15DEC2020:00:00:00.000000</td>\n",
              "      <td>15DEC2020:00:00:00.000000</td>\n",
              "      <td>Buenos Aires</td>\n",
              "      <td>NaN</td>\n",
              "      <td>NaN</td>\n",
              "      <td>masculino</td>\n",
              "      <td>36</td>\n",
              "      <td>confirmado</td>\n",
              "      <td>NaN</td>\n",
              "      <td>NaN</td>\n",
              "      <td>20DEC2020:00:00:00.000000</td>\n",
              "      <td>Comunitario</td>\n",
              "    </tr>\n",
              "    <tr>\n",
              "      <th>598</th>\n",
              "      <td>5287907</td>\n",
              "      <td>15DEC2020:00:00:00.000000</td>\n",
              "      <td>14DEC2020:00:00:00.000000</td>\n",
              "      <td>14DEC2020:00:00:00.000000</td>\n",
              "      <td>Buenos Aires</td>\n",
              "      <td>NaN</td>\n",
              "      <td>NaN</td>\n",
              "      <td>femenino</td>\n",
              "      <td>42</td>\n",
              "      <td>confirmado</td>\n",
              "      <td>NaN</td>\n",
              "      <td>NaN</td>\n",
              "      <td>20DEC2020:00:00:00.000000</td>\n",
              "      <td>Comunitario</td>\n",
              "    </tr>\n",
              "  </tbody>\n",
              "</table>\n",
              "</div>"
            ],
            "text/plain": [
              "     numero_de_caso  ... tipo_contagio\n",
              "596         5286275  ...   Comunitario\n",
              "597         5287632  ...   Comunitario\n",
              "598         5287907  ...   Comunitario\n",
              "\n",
              "[3 rows x 14 columns]"
            ]
          },
          "metadata": {},
          "execution_count": 3
        }
      ]
    },
    {
      "cell_type": "code",
      "metadata": {
        "colab": {
          "base_uri": "https://localhost:8080/",
          "height": 213
        },
        "id": "tqn2Xo7jfVFs",
        "outputId": "45afbfaf-bd71-4848-96d1-ad8b588f0d46"
      },
      "source": [
        "df1.tail(3)"
      ],
      "execution_count": 4,
      "outputs": [
        {
          "output_type": "execute_result",
          "data": {
            "text/html": [
              "<div>\n",
              "<style scoped>\n",
              "    .dataframe tbody tr th:only-of-type {\n",
              "        vertical-align: middle;\n",
              "    }\n",
              "\n",
              "    .dataframe tbody tr th {\n",
              "        vertical-align: top;\n",
              "    }\n",
              "\n",
              "    .dataframe thead th {\n",
              "        text-align: right;\n",
              "    }\n",
              "</style>\n",
              "<table border=\"1\" class=\"dataframe\">\n",
              "  <thead>\n",
              "    <tr style=\"text-align: right;\">\n",
              "      <th></th>\n",
              "      <th>numero_de_caso</th>\n",
              "      <th>fecha_apertura_snvs</th>\n",
              "      <th>fecha_toma_muestra</th>\n",
              "      <th>fecha_clasificacion</th>\n",
              "      <th>provincia</th>\n",
              "      <th>barrio</th>\n",
              "      <th>comuna</th>\n",
              "      <th>genero</th>\n",
              "      <th>edad</th>\n",
              "      <th>clasificacion</th>\n",
              "      <th>fecha_fallecimiento</th>\n",
              "      <th>fallecido</th>\n",
              "      <th>fecha_alta</th>\n",
              "      <th>tipo_contagio</th>\n",
              "    </tr>\n",
              "  </thead>\n",
              "  <tbody>\n",
              "    <tr>\n",
              "      <th>596</th>\n",
              "      <td>5286275</td>\n",
              "      <td>15DEC2020:00:00:00.000000</td>\n",
              "      <td>15DEC2020:00:00:00.000000</td>\n",
              "      <td>15DEC2020:00:00:00.000000</td>\n",
              "      <td>Buenos Aires</td>\n",
              "      <td>NaN</td>\n",
              "      <td>NaN</td>\n",
              "      <td>femenino</td>\n",
              "      <td>86</td>\n",
              "      <td>confirmado</td>\n",
              "      <td>NaN</td>\n",
              "      <td>NaN</td>\n",
              "      <td>20DEC2020:00:00:00.000000</td>\n",
              "      <td>Comunitario</td>\n",
              "    </tr>\n",
              "    <tr>\n",
              "      <th>597</th>\n",
              "      <td>5287632</td>\n",
              "      <td>15DEC2020:00:00:00.000000</td>\n",
              "      <td>15DEC2020:00:00:00.000000</td>\n",
              "      <td>15DEC2020:00:00:00.000000</td>\n",
              "      <td>Buenos Aires</td>\n",
              "      <td>NaN</td>\n",
              "      <td>NaN</td>\n",
              "      <td>masculino</td>\n",
              "      <td>36</td>\n",
              "      <td>confirmado</td>\n",
              "      <td>NaN</td>\n",
              "      <td>NaN</td>\n",
              "      <td>20DEC2020:00:00:00.000000</td>\n",
              "      <td>Comunitario</td>\n",
              "    </tr>\n",
              "    <tr>\n",
              "      <th>598</th>\n",
              "      <td>5287907</td>\n",
              "      <td>15DEC2020:00:00:00.000000</td>\n",
              "      <td>14DEC2020:00:00:00.000000</td>\n",
              "      <td>14DEC2020:00:00:00.000000</td>\n",
              "      <td>Buenos Aires</td>\n",
              "      <td>NaN</td>\n",
              "      <td>NaN</td>\n",
              "      <td>femenino</td>\n",
              "      <td>42</td>\n",
              "      <td>confirmado</td>\n",
              "      <td>NaN</td>\n",
              "      <td>NaN</td>\n",
              "      <td>20DEC2020:00:00:00.000000</td>\n",
              "      <td>Comunitario</td>\n",
              "    </tr>\n",
              "  </tbody>\n",
              "</table>\n",
              "</div>"
            ],
            "text/plain": [
              "     numero_de_caso  ... tipo_contagio\n",
              "596         5286275  ...   Comunitario\n",
              "597         5287632  ...   Comunitario\n",
              "598         5287907  ...   Comunitario\n",
              "\n",
              "[3 rows x 14 columns]"
            ]
          },
          "metadata": {},
          "execution_count": 4
        }
      ]
    },
    {
      "cell_type": "code",
      "metadata": {
        "colab": {
          "base_uri": "https://localhost:8080/"
        },
        "id": "abR0sn1mggLe",
        "outputId": "60e5b77b-026b-4a7b-f1ce-ac937a80c7e1"
      },
      "source": [
        "df2 = df1[[\"provincia\",\"genero\",\"edad\"]]\n",
        "cantidadDeCeldas = df2.size\n",
        "print(cantidadDeCeldas)\n",
        "\n",
        "cantidadDeFilas = df2[\"provincia\"].size\n",
        "print(cantidadDeFilas)\n"
      ],
      "execution_count": 13,
      "outputs": [
        {
          "output_type": "stream",
          "name": "stdout",
          "text": [
            "1797\n",
            "599\n"
          ]
        }
      ]
    },
    {
      "cell_type": "code",
      "metadata": {
        "colab": {
          "base_uri": "https://localhost:8080/",
          "height": 419
        },
        "id": "UBJbKUzXjCSs",
        "outputId": "2e7eeecd-e9fe-4551-e238-356a5b65d3e1"
      },
      "source": [
        "df2.sort_values(['edad'],ascending=False)"
      ],
      "execution_count": 15,
      "outputs": [
        {
          "output_type": "execute_result",
          "data": {
            "text/html": [
              "<div>\n",
              "<style scoped>\n",
              "    .dataframe tbody tr th:only-of-type {\n",
              "        vertical-align: middle;\n",
              "    }\n",
              "\n",
              "    .dataframe tbody tr th {\n",
              "        vertical-align: top;\n",
              "    }\n",
              "\n",
              "    .dataframe thead th {\n",
              "        text-align: right;\n",
              "    }\n",
              "</style>\n",
              "<table border=\"1\" class=\"dataframe\">\n",
              "  <thead>\n",
              "    <tr style=\"text-align: right;\">\n",
              "      <th></th>\n",
              "      <th>provincia</th>\n",
              "      <th>genero</th>\n",
              "      <th>edad</th>\n",
              "    </tr>\n",
              "  </thead>\n",
              "  <tbody>\n",
              "    <tr>\n",
              "      <th>547</th>\n",
              "      <td>Buenos Aires</td>\n",
              "      <td>femenino</td>\n",
              "      <td>99</td>\n",
              "    </tr>\n",
              "    <tr>\n",
              "      <th>389</th>\n",
              "      <td>Buenos Aires</td>\n",
              "      <td>femenino</td>\n",
              "      <td>97</td>\n",
              "    </tr>\n",
              "    <tr>\n",
              "      <th>355</th>\n",
              "      <td>CABA</td>\n",
              "      <td>masculino</td>\n",
              "      <td>93</td>\n",
              "    </tr>\n",
              "    <tr>\n",
              "      <th>455</th>\n",
              "      <td>Buenos Aires</td>\n",
              "      <td>femenino</td>\n",
              "      <td>91</td>\n",
              "    </tr>\n",
              "    <tr>\n",
              "      <th>369</th>\n",
              "      <td>CABA</td>\n",
              "      <td>femenino</td>\n",
              "      <td>90</td>\n",
              "    </tr>\n",
              "    <tr>\n",
              "      <th>...</th>\n",
              "      <td>...</td>\n",
              "      <td>...</td>\n",
              "      <td>...</td>\n",
              "    </tr>\n",
              "    <tr>\n",
              "      <th>291</th>\n",
              "      <td>Buenos Aires</td>\n",
              "      <td>femenino</td>\n",
              "      <td>1</td>\n",
              "    </tr>\n",
              "    <tr>\n",
              "      <th>285</th>\n",
              "      <td>Buenos Aires</td>\n",
              "      <td>masculino</td>\n",
              "      <td>1</td>\n",
              "    </tr>\n",
              "    <tr>\n",
              "      <th>180</th>\n",
              "      <td>Buenos Aires</td>\n",
              "      <td>femenino</td>\n",
              "      <td>1</td>\n",
              "    </tr>\n",
              "    <tr>\n",
              "      <th>447</th>\n",
              "      <td>Buenos Aires</td>\n",
              "      <td>femenino</td>\n",
              "      <td>0</td>\n",
              "    </tr>\n",
              "    <tr>\n",
              "      <th>491</th>\n",
              "      <td>Buenos Aires</td>\n",
              "      <td>femenino</td>\n",
              "      <td>0</td>\n",
              "    </tr>\n",
              "  </tbody>\n",
              "</table>\n",
              "<p>599 rows × 3 columns</p>\n",
              "</div>"
            ],
            "text/plain": [
              "        provincia     genero  edad\n",
              "547  Buenos Aires   femenino    99\n",
              "389  Buenos Aires   femenino    97\n",
              "355          CABA  masculino    93\n",
              "455  Buenos Aires   femenino    91\n",
              "369          CABA   femenino    90\n",
              "..            ...        ...   ...\n",
              "291  Buenos Aires   femenino     1\n",
              "285  Buenos Aires  masculino     1\n",
              "180  Buenos Aires   femenino     1\n",
              "447  Buenos Aires   femenino     0\n",
              "491  Buenos Aires   femenino     0\n",
              "\n",
              "[599 rows x 3 columns]"
            ]
          },
          "metadata": {},
          "execution_count": 15
        }
      ]
    },
    {
      "cell_type": "code",
      "metadata": {
        "colab": {
          "base_uri": "https://localhost:8080/"
        },
        "id": "hTjxdNeCjNWr",
        "outputId": "70d8bb47-c955-41e6-dacb-00ad3d887697"
      },
      "source": [
        "df2.edad"
      ],
      "execution_count": 18,
      "outputs": [
        {
          "output_type": "execute_result",
          "data": {
            "text/plain": [
              "0      30\n",
              "1      17\n",
              "2      12\n",
              "3      55\n",
              "4      84\n",
              "       ..\n",
              "594    23\n",
              "595    37\n",
              "596    86\n",
              "597    36\n",
              "598    42\n",
              "Name: edad, Length: 599, dtype: int64"
            ]
          },
          "metadata": {},
          "execution_count": 18
        }
      ]
    },
    {
      "cell_type": "code",
      "metadata": {
        "colab": {
          "base_uri": "https://localhost:8080/"
        },
        "id": "DPpFoSJfDyji",
        "outputId": "c1ce7db1-8e6e-43e0-aaeb-4a91905339eb"
      },
      "source": [
        "type(df2.edad)"
      ],
      "execution_count": 130,
      "outputs": [
        {
          "output_type": "execute_result",
          "data": {
            "text/plain": [
              "pandas.core.series.Series"
            ]
          },
          "metadata": {},
          "execution_count": 130
        }
      ]
    },
    {
      "cell_type": "code",
      "metadata": {
        "id": "EV_RRtJpC97r"
      },
      "source": [
        "condicion = df2.provincia.str.contains('f')\n",
        "condicion = df2.provincia.str.endswith('s')\n",
        "condicion = df2.provincia.str.startswith('s')\n",
        "\n",
        "df2[condicion]"
      ],
      "execution_count": null,
      "outputs": []
    },
    {
      "cell_type": "code",
      "metadata": {
        "colab": {
          "base_uri": "https://localhost:8080/",
          "height": 514
        },
        "id": "XupFYULujw_j",
        "outputId": "7c1cf533-a3bc-4313-a486-0a1e3faad674"
      },
      "source": [
        "condicion = df2.edad == 45\n",
        "df2[condicion]"
      ],
      "execution_count": 59,
      "outputs": [
        {
          "output_type": "execute_result",
          "data": {
            "text/html": [
              "<div>\n",
              "<style scoped>\n",
              "    .dataframe tbody tr th:only-of-type {\n",
              "        vertical-align: middle;\n",
              "    }\n",
              "\n",
              "    .dataframe tbody tr th {\n",
              "        vertical-align: top;\n",
              "    }\n",
              "\n",
              "    .dataframe thead th {\n",
              "        text-align: right;\n",
              "    }\n",
              "</style>\n",
              "<table border=\"1\" class=\"dataframe\">\n",
              "  <thead>\n",
              "    <tr style=\"text-align: right;\">\n",
              "      <th></th>\n",
              "      <th>provincia</th>\n",
              "      <th>genero</th>\n",
              "      <th>edad</th>\n",
              "    </tr>\n",
              "  </thead>\n",
              "  <tbody>\n",
              "    <tr>\n",
              "      <th>47</th>\n",
              "      <td>Buenos Aires</td>\n",
              "      <td>femenino</td>\n",
              "      <td>45</td>\n",
              "    </tr>\n",
              "    <tr>\n",
              "      <th>75</th>\n",
              "      <td>Buenos Aires</td>\n",
              "      <td>femenino</td>\n",
              "      <td>45</td>\n",
              "    </tr>\n",
              "    <tr>\n",
              "      <th>84</th>\n",
              "      <td>Buenos Aires</td>\n",
              "      <td>masculino</td>\n",
              "      <td>45</td>\n",
              "    </tr>\n",
              "    <tr>\n",
              "      <th>85</th>\n",
              "      <td>Buenos Aires</td>\n",
              "      <td>femenino</td>\n",
              "      <td>45</td>\n",
              "    </tr>\n",
              "    <tr>\n",
              "      <th>151</th>\n",
              "      <td>Buenos Aires</td>\n",
              "      <td>femenino</td>\n",
              "      <td>45</td>\n",
              "    </tr>\n",
              "    <tr>\n",
              "      <th>231</th>\n",
              "      <td>Buenos Aires</td>\n",
              "      <td>masculino</td>\n",
              "      <td>45</td>\n",
              "    </tr>\n",
              "    <tr>\n",
              "      <th>309</th>\n",
              "      <td>Buenos Aires</td>\n",
              "      <td>masculino</td>\n",
              "      <td>45</td>\n",
              "    </tr>\n",
              "    <tr>\n",
              "      <th>341</th>\n",
              "      <td>Buenos Aires</td>\n",
              "      <td>masculino</td>\n",
              "      <td>45</td>\n",
              "    </tr>\n",
              "    <tr>\n",
              "      <th>344</th>\n",
              "      <td>Buenos Aires</td>\n",
              "      <td>masculino</td>\n",
              "      <td>45</td>\n",
              "    </tr>\n",
              "    <tr>\n",
              "      <th>406</th>\n",
              "      <td>Buenos Aires</td>\n",
              "      <td>masculino</td>\n",
              "      <td>45</td>\n",
              "    </tr>\n",
              "    <tr>\n",
              "      <th>421</th>\n",
              "      <td>Buenos Aires</td>\n",
              "      <td>masculino</td>\n",
              "      <td>45</td>\n",
              "    </tr>\n",
              "    <tr>\n",
              "      <th>493</th>\n",
              "      <td>Buenos Aires</td>\n",
              "      <td>masculino</td>\n",
              "      <td>45</td>\n",
              "    </tr>\n",
              "    <tr>\n",
              "      <th>494</th>\n",
              "      <td>Buenos Aires</td>\n",
              "      <td>masculino</td>\n",
              "      <td>45</td>\n",
              "    </tr>\n",
              "    <tr>\n",
              "      <th>511</th>\n",
              "      <td>Buenos Aires</td>\n",
              "      <td>femenino</td>\n",
              "      <td>45</td>\n",
              "    </tr>\n",
              "    <tr>\n",
              "      <th>577</th>\n",
              "      <td>Buenos Aires</td>\n",
              "      <td>masculino</td>\n",
              "      <td>45</td>\n",
              "    </tr>\n",
              "  </tbody>\n",
              "</table>\n",
              "</div>"
            ],
            "text/plain": [
              "        provincia     genero  edad\n",
              "47   Buenos Aires   femenino    45\n",
              "75   Buenos Aires   femenino    45\n",
              "84   Buenos Aires  masculino    45\n",
              "85   Buenos Aires   femenino    45\n",
              "151  Buenos Aires   femenino    45\n",
              "231  Buenos Aires  masculino    45\n",
              "309  Buenos Aires  masculino    45\n",
              "341  Buenos Aires  masculino    45\n",
              "344  Buenos Aires  masculino    45\n",
              "406  Buenos Aires  masculino    45\n",
              "421  Buenos Aires  masculino    45\n",
              "493  Buenos Aires  masculino    45\n",
              "494  Buenos Aires  masculino    45\n",
              "511  Buenos Aires   femenino    45\n",
              "577  Buenos Aires  masculino    45"
            ]
          },
          "metadata": {},
          "execution_count": 59
        }
      ]
    },
    {
      "cell_type": "code",
      "metadata": {
        "colab": {
          "base_uri": "https://localhost:8080/",
          "height": 1000
        },
        "id": "OFV8_P9Kkdnz",
        "outputId": "84067eb5-7843-4ba1-c7fd-b06f662fb4dc"
      },
      "source": [
        "condicion = df2.edad <= 18\n",
        "df2[condicion]"
      ],
      "execution_count": 71,
      "outputs": [
        {
          "output_type": "execute_result",
          "data": {
            "text/html": [
              "<div>\n",
              "<style scoped>\n",
              "    .dataframe tbody tr th:only-of-type {\n",
              "        vertical-align: middle;\n",
              "    }\n",
              "\n",
              "    .dataframe tbody tr th {\n",
              "        vertical-align: top;\n",
              "    }\n",
              "\n",
              "    .dataframe thead th {\n",
              "        text-align: right;\n",
              "    }\n",
              "</style>\n",
              "<table border=\"1\" class=\"dataframe\">\n",
              "  <thead>\n",
              "    <tr style=\"text-align: right;\">\n",
              "      <th></th>\n",
              "      <th>provincia</th>\n",
              "      <th>genero</th>\n",
              "      <th>edad</th>\n",
              "    </tr>\n",
              "  </thead>\n",
              "  <tbody>\n",
              "    <tr>\n",
              "      <th>1</th>\n",
              "      <td>Buenos Aires</td>\n",
              "      <td>femenino</td>\n",
              "      <td>17</td>\n",
              "    </tr>\n",
              "    <tr>\n",
              "      <th>2</th>\n",
              "      <td>Buenos Aires</td>\n",
              "      <td>femenino</td>\n",
              "      <td>12</td>\n",
              "    </tr>\n",
              "    <tr>\n",
              "      <th>27</th>\n",
              "      <td>Buenos Aires</td>\n",
              "      <td>femenino</td>\n",
              "      <td>18</td>\n",
              "    </tr>\n",
              "    <tr>\n",
              "      <th>65</th>\n",
              "      <td>Buenos Aires</td>\n",
              "      <td>masculino</td>\n",
              "      <td>13</td>\n",
              "    </tr>\n",
              "    <tr>\n",
              "      <th>77</th>\n",
              "      <td>Buenos Aires</td>\n",
              "      <td>femenino</td>\n",
              "      <td>16</td>\n",
              "    </tr>\n",
              "    <tr>\n",
              "      <th>99</th>\n",
              "      <td>Buenos Aires</td>\n",
              "      <td>masculino</td>\n",
              "      <td>18</td>\n",
              "    </tr>\n",
              "    <tr>\n",
              "      <th>103</th>\n",
              "      <td>Buenos Aires</td>\n",
              "      <td>femenino</td>\n",
              "      <td>13</td>\n",
              "    </tr>\n",
              "    <tr>\n",
              "      <th>104</th>\n",
              "      <td>Buenos Aires</td>\n",
              "      <td>femenino</td>\n",
              "      <td>15</td>\n",
              "    </tr>\n",
              "    <tr>\n",
              "      <th>108</th>\n",
              "      <td>Buenos Aires</td>\n",
              "      <td>masculino</td>\n",
              "      <td>13</td>\n",
              "    </tr>\n",
              "    <tr>\n",
              "      <th>135</th>\n",
              "      <td>Buenos Aires</td>\n",
              "      <td>femenino</td>\n",
              "      <td>18</td>\n",
              "    </tr>\n",
              "    <tr>\n",
              "      <th>149</th>\n",
              "      <td>Buenos Aires</td>\n",
              "      <td>femenino</td>\n",
              "      <td>18</td>\n",
              "    </tr>\n",
              "    <tr>\n",
              "      <th>156</th>\n",
              "      <td>Buenos Aires</td>\n",
              "      <td>masculino</td>\n",
              "      <td>18</td>\n",
              "    </tr>\n",
              "    <tr>\n",
              "      <th>180</th>\n",
              "      <td>Buenos Aires</td>\n",
              "      <td>femenino</td>\n",
              "      <td>1</td>\n",
              "    </tr>\n",
              "    <tr>\n",
              "      <th>182</th>\n",
              "      <td>Buenos Aires</td>\n",
              "      <td>femenino</td>\n",
              "      <td>18</td>\n",
              "    </tr>\n",
              "    <tr>\n",
              "      <th>187</th>\n",
              "      <td>Buenos Aires</td>\n",
              "      <td>masculino</td>\n",
              "      <td>6</td>\n",
              "    </tr>\n",
              "    <tr>\n",
              "      <th>201</th>\n",
              "      <td>Buenos Aires</td>\n",
              "      <td>femenino</td>\n",
              "      <td>18</td>\n",
              "    </tr>\n",
              "    <tr>\n",
              "      <th>203</th>\n",
              "      <td>Buenos Aires</td>\n",
              "      <td>masculino</td>\n",
              "      <td>11</td>\n",
              "    </tr>\n",
              "    <tr>\n",
              "      <th>204</th>\n",
              "      <td>Buenos Aires</td>\n",
              "      <td>masculino</td>\n",
              "      <td>12</td>\n",
              "    </tr>\n",
              "    <tr>\n",
              "      <th>206</th>\n",
              "      <td>Buenos Aires</td>\n",
              "      <td>masculino</td>\n",
              "      <td>18</td>\n",
              "    </tr>\n",
              "    <tr>\n",
              "      <th>209</th>\n",
              "      <td>Buenos Aires</td>\n",
              "      <td>femenino</td>\n",
              "      <td>12</td>\n",
              "    </tr>\n",
              "    <tr>\n",
              "      <th>213</th>\n",
              "      <td>Buenos Aires</td>\n",
              "      <td>masculino</td>\n",
              "      <td>2</td>\n",
              "    </tr>\n",
              "    <tr>\n",
              "      <th>229</th>\n",
              "      <td>Buenos Aires</td>\n",
              "      <td>masculino</td>\n",
              "      <td>18</td>\n",
              "    </tr>\n",
              "    <tr>\n",
              "      <th>232</th>\n",
              "      <td>Buenos Aires</td>\n",
              "      <td>femenino</td>\n",
              "      <td>17</td>\n",
              "    </tr>\n",
              "    <tr>\n",
              "      <th>243</th>\n",
              "      <td>Buenos Aires</td>\n",
              "      <td>masculino</td>\n",
              "      <td>16</td>\n",
              "    </tr>\n",
              "    <tr>\n",
              "      <th>253</th>\n",
              "      <td>Buenos Aires</td>\n",
              "      <td>masculino</td>\n",
              "      <td>13</td>\n",
              "    </tr>\n",
              "    <tr>\n",
              "      <th>263</th>\n",
              "      <td>Buenos Aires</td>\n",
              "      <td>masculino</td>\n",
              "      <td>2</td>\n",
              "    </tr>\n",
              "    <tr>\n",
              "      <th>283</th>\n",
              "      <td>Buenos Aires</td>\n",
              "      <td>femenino</td>\n",
              "      <td>15</td>\n",
              "    </tr>\n",
              "    <tr>\n",
              "      <th>284</th>\n",
              "      <td>Buenos Aires</td>\n",
              "      <td>masculino</td>\n",
              "      <td>14</td>\n",
              "    </tr>\n",
              "    <tr>\n",
              "      <th>285</th>\n",
              "      <td>Buenos Aires</td>\n",
              "      <td>masculino</td>\n",
              "      <td>1</td>\n",
              "    </tr>\n",
              "    <tr>\n",
              "      <th>286</th>\n",
              "      <td>Buenos Aires</td>\n",
              "      <td>femenino</td>\n",
              "      <td>13</td>\n",
              "    </tr>\n",
              "    <tr>\n",
              "      <th>291</th>\n",
              "      <td>Buenos Aires</td>\n",
              "      <td>femenino</td>\n",
              "      <td>1</td>\n",
              "    </tr>\n",
              "    <tr>\n",
              "      <th>301</th>\n",
              "      <td>Buenos Aires</td>\n",
              "      <td>femenino</td>\n",
              "      <td>15</td>\n",
              "    </tr>\n",
              "    <tr>\n",
              "      <th>305</th>\n",
              "      <td>Buenos Aires</td>\n",
              "      <td>femenino</td>\n",
              "      <td>15</td>\n",
              "    </tr>\n",
              "    <tr>\n",
              "      <th>306</th>\n",
              "      <td>Buenos Aires</td>\n",
              "      <td>femenino</td>\n",
              "      <td>18</td>\n",
              "    </tr>\n",
              "    <tr>\n",
              "      <th>314</th>\n",
              "      <td>Buenos Aires</td>\n",
              "      <td>femenino</td>\n",
              "      <td>11</td>\n",
              "    </tr>\n",
              "    <tr>\n",
              "      <th>342</th>\n",
              "      <td>Buenos Aires</td>\n",
              "      <td>masculino</td>\n",
              "      <td>17</td>\n",
              "    </tr>\n",
              "    <tr>\n",
              "      <th>383</th>\n",
              "      <td>Buenos Aires</td>\n",
              "      <td>masculino</td>\n",
              "      <td>9</td>\n",
              "    </tr>\n",
              "    <tr>\n",
              "      <th>399</th>\n",
              "      <td>Buenos Aires</td>\n",
              "      <td>masculino</td>\n",
              "      <td>18</td>\n",
              "    </tr>\n",
              "    <tr>\n",
              "      <th>447</th>\n",
              "      <td>Buenos Aires</td>\n",
              "      <td>femenino</td>\n",
              "      <td>0</td>\n",
              "    </tr>\n",
              "    <tr>\n",
              "      <th>454</th>\n",
              "      <td>Buenos Aires</td>\n",
              "      <td>femenino</td>\n",
              "      <td>17</td>\n",
              "    </tr>\n",
              "    <tr>\n",
              "      <th>472</th>\n",
              "      <td>Buenos Aires</td>\n",
              "      <td>femenino</td>\n",
              "      <td>6</td>\n",
              "    </tr>\n",
              "    <tr>\n",
              "      <th>478</th>\n",
              "      <td>Buenos Aires</td>\n",
              "      <td>masculino</td>\n",
              "      <td>16</td>\n",
              "    </tr>\n",
              "    <tr>\n",
              "      <th>491</th>\n",
              "      <td>Buenos Aires</td>\n",
              "      <td>femenino</td>\n",
              "      <td>0</td>\n",
              "    </tr>\n",
              "    <tr>\n",
              "      <th>499</th>\n",
              "      <td>Buenos Aires</td>\n",
              "      <td>femenino</td>\n",
              "      <td>5</td>\n",
              "    </tr>\n",
              "    <tr>\n",
              "      <th>568</th>\n",
              "      <td>Buenos Aires</td>\n",
              "      <td>masculino</td>\n",
              "      <td>6</td>\n",
              "    </tr>\n",
              "    <tr>\n",
              "      <th>569</th>\n",
              "      <td>Buenos Aires</td>\n",
              "      <td>femenino</td>\n",
              "      <td>7</td>\n",
              "    </tr>\n",
              "    <tr>\n",
              "      <th>571</th>\n",
              "      <td>Buenos Aires</td>\n",
              "      <td>masculino</td>\n",
              "      <td>2</td>\n",
              "    </tr>\n",
              "    <tr>\n",
              "      <th>581</th>\n",
              "      <td>Buenos Aires</td>\n",
              "      <td>femenino</td>\n",
              "      <td>14</td>\n",
              "    </tr>\n",
              "  </tbody>\n",
              "</table>\n",
              "</div>"
            ],
            "text/plain": [
              "        provincia     genero  edad\n",
              "1    Buenos Aires   femenino    17\n",
              "2    Buenos Aires   femenino    12\n",
              "27   Buenos Aires   femenino    18\n",
              "65   Buenos Aires  masculino    13\n",
              "77   Buenos Aires   femenino    16\n",
              "99   Buenos Aires  masculino    18\n",
              "103  Buenos Aires   femenino    13\n",
              "104  Buenos Aires   femenino    15\n",
              "108  Buenos Aires  masculino    13\n",
              "135  Buenos Aires   femenino    18\n",
              "149  Buenos Aires   femenino    18\n",
              "156  Buenos Aires  masculino    18\n",
              "180  Buenos Aires   femenino     1\n",
              "182  Buenos Aires   femenino    18\n",
              "187  Buenos Aires  masculino     6\n",
              "201  Buenos Aires   femenino    18\n",
              "203  Buenos Aires  masculino    11\n",
              "204  Buenos Aires  masculino    12\n",
              "206  Buenos Aires  masculino    18\n",
              "209  Buenos Aires   femenino    12\n",
              "213  Buenos Aires  masculino     2\n",
              "229  Buenos Aires  masculino    18\n",
              "232  Buenos Aires   femenino    17\n",
              "243  Buenos Aires  masculino    16\n",
              "253  Buenos Aires  masculino    13\n",
              "263  Buenos Aires  masculino     2\n",
              "283  Buenos Aires   femenino    15\n",
              "284  Buenos Aires  masculino    14\n",
              "285  Buenos Aires  masculino     1\n",
              "286  Buenos Aires   femenino    13\n",
              "291  Buenos Aires   femenino     1\n",
              "301  Buenos Aires   femenino    15\n",
              "305  Buenos Aires   femenino    15\n",
              "306  Buenos Aires   femenino    18\n",
              "314  Buenos Aires   femenino    11\n",
              "342  Buenos Aires  masculino    17\n",
              "383  Buenos Aires  masculino     9\n",
              "399  Buenos Aires  masculino    18\n",
              "447  Buenos Aires   femenino     0\n",
              "454  Buenos Aires   femenino    17\n",
              "472  Buenos Aires   femenino     6\n",
              "478  Buenos Aires  masculino    16\n",
              "491  Buenos Aires   femenino     0\n",
              "499  Buenos Aires   femenino     5\n",
              "568  Buenos Aires  masculino     6\n",
              "569  Buenos Aires   femenino     7\n",
              "571  Buenos Aires  masculino     2\n",
              "581  Buenos Aires   femenino    14"
            ]
          },
          "metadata": {},
          "execution_count": 71
        }
      ]
    },
    {
      "cell_type": "code",
      "metadata": {
        "colab": {
          "base_uri": "https://localhost:8080/"
        },
        "id": "wXW1tgIXwn0t",
        "outputId": "23d7e120-1d5d-4255-a0e2-fa06694b7bb3"
      },
      "source": [
        "df2[condicion].index"
      ],
      "execution_count": 72,
      "outputs": [
        {
          "output_type": "execute_result",
          "data": {
            "text/plain": [
              "Int64Index([  1,   2,  27,  65,  77,  99, 103, 104, 108, 135, 149, 156, 180,\n",
              "            182, 187, 201, 203, 204, 206, 209, 213, 229, 232, 243, 253, 263,\n",
              "            283, 284, 285, 286, 291, 301, 305, 306, 314, 342, 383, 399, 447,\n",
              "            454, 472, 478, 491, 499, 568, 569, 571, 581],\n",
              "           dtype='int64')"
            ]
          },
          "metadata": {},
          "execution_count": 72
        }
      ]
    },
    {
      "cell_type": "code",
      "metadata": {
        "colab": {
          "base_uri": "https://localhost:8080/",
          "height": 484
        },
        "id": "oadLFAIg7n1R",
        "outputId": "db21294a-cad2-431a-b426-3a4ccb25f222"
      },
      "source": [
        "df2[\"hola\"] = pd.Series([])\n",
        "df2.head(9)"
      ],
      "execution_count": 96,
      "outputs": [
        {
          "output_type": "stream",
          "name": "stderr",
          "text": [
            "/usr/local/lib/python3.7/dist-packages/ipykernel_launcher.py:1: DeprecationWarning: The default dtype for empty Series will be 'object' instead of 'float64' in a future version. Specify a dtype explicitly to silence this warning.\n",
            "  \"\"\"Entry point for launching an IPython kernel.\n",
            "/usr/local/lib/python3.7/dist-packages/ipykernel_launcher.py:1: SettingWithCopyWarning: \n",
            "A value is trying to be set on a copy of a slice from a DataFrame.\n",
            "Try using .loc[row_indexer,col_indexer] = value instead\n",
            "\n",
            "See the caveats in the documentation: https://pandas.pydata.org/pandas-docs/stable/user_guide/indexing.html#returning-a-view-versus-a-copy\n",
            "  \"\"\"Entry point for launching an IPython kernel.\n"
          ]
        },
        {
          "output_type": "execute_result",
          "data": {
            "text/html": [
              "<div>\n",
              "<style scoped>\n",
              "    .dataframe tbody tr th:only-of-type {\n",
              "        vertical-align: middle;\n",
              "    }\n",
              "\n",
              "    .dataframe tbody tr th {\n",
              "        vertical-align: top;\n",
              "    }\n",
              "\n",
              "    .dataframe thead th {\n",
              "        text-align: right;\n",
              "    }\n",
              "</style>\n",
              "<table border=\"1\" class=\"dataframe\">\n",
              "  <thead>\n",
              "    <tr style=\"text-align: right;\">\n",
              "      <th></th>\n",
              "      <th>provincia</th>\n",
              "      <th>genero</th>\n",
              "      <th>edad</th>\n",
              "      <th>hola</th>\n",
              "    </tr>\n",
              "  </thead>\n",
              "  <tbody>\n",
              "    <tr>\n",
              "      <th>0</th>\n",
              "      <td>Buenos Aires</td>\n",
              "      <td>masculino</td>\n",
              "      <td>30</td>\n",
              "      <td>NaN</td>\n",
              "    </tr>\n",
              "    <tr>\n",
              "      <th>1</th>\n",
              "      <td>Buenos Aires</td>\n",
              "      <td>femenino</td>\n",
              "      <td>17</td>\n",
              "      <td>NaN</td>\n",
              "    </tr>\n",
              "    <tr>\n",
              "      <th>2</th>\n",
              "      <td>Buenos Aires</td>\n",
              "      <td>femenino</td>\n",
              "      <td>12</td>\n",
              "      <td>NaN</td>\n",
              "    </tr>\n",
              "    <tr>\n",
              "      <th>3</th>\n",
              "      <td>Buenos Aires</td>\n",
              "      <td>femenino</td>\n",
              "      <td>55</td>\n",
              "      <td>NaN</td>\n",
              "    </tr>\n",
              "    <tr>\n",
              "      <th>4</th>\n",
              "      <td>Buenos Aires</td>\n",
              "      <td>masculino</td>\n",
              "      <td>84</td>\n",
              "      <td>NaN</td>\n",
              "    </tr>\n",
              "    <tr>\n",
              "      <th>5</th>\n",
              "      <td>Buenos Aires</td>\n",
              "      <td>masculino</td>\n",
              "      <td>63</td>\n",
              "      <td>NaN</td>\n",
              "    </tr>\n",
              "    <tr>\n",
              "      <th>6</th>\n",
              "      <td>Buenos Aires</td>\n",
              "      <td>masculino</td>\n",
              "      <td>71</td>\n",
              "      <td>NaN</td>\n",
              "    </tr>\n",
              "    <tr>\n",
              "      <th>7</th>\n",
              "      <td>Buenos Aires</td>\n",
              "      <td>masculino</td>\n",
              "      <td>29</td>\n",
              "      <td>NaN</td>\n",
              "    </tr>\n",
              "    <tr>\n",
              "      <th>8</th>\n",
              "      <td>Buenos Aires</td>\n",
              "      <td>femenino</td>\n",
              "      <td>33</td>\n",
              "      <td>NaN</td>\n",
              "    </tr>\n",
              "  </tbody>\n",
              "</table>\n",
              "</div>"
            ],
            "text/plain": [
              "      provincia     genero  edad  hola\n",
              "0  Buenos Aires  masculino    30   NaN\n",
              "1  Buenos Aires   femenino    17   NaN\n",
              "2  Buenos Aires   femenino    12   NaN\n",
              "3  Buenos Aires   femenino    55   NaN\n",
              "4  Buenos Aires  masculino    84   NaN\n",
              "5  Buenos Aires  masculino    63   NaN\n",
              "6  Buenos Aires  masculino    71   NaN\n",
              "7  Buenos Aires  masculino    29   NaN\n",
              "8  Buenos Aires   femenino    33   NaN"
            ]
          },
          "metadata": {},
          "execution_count": 96
        }
      ]
    },
    {
      "cell_type": "code",
      "metadata": {
        "colab": {
          "base_uri": "https://localhost:8080/"
        },
        "id": "09tpIuSTkv8Y",
        "outputId": "1994f018-223d-4b21-ae54-eb20e1fb0a44"
      },
      "source": [
        "condicion = (df2.edad >= 18) & (df2.provincia == \"Buenos Aires\")\n",
        "df2[condicion]"
      ],
      "execution_count": 69,
      "outputs": [
        {
          "output_type": "execute_result",
          "data": {
            "text/plain": [
              "Int64Index([  0,   3,   4,   5,   6,   7,   8,   9,  10,  11,\n",
              "            ...\n",
              "            588, 590, 591, 592, 593, 594, 595, 596, 597, 598],\n",
              "           dtype='int64', length=542)"
            ]
          },
          "metadata": {},
          "execution_count": 69
        }
      ]
    },
    {
      "cell_type": "code",
      "metadata": {
        "colab": {
          "base_uri": "https://localhost:8080/"
        },
        "id": "QcACEhnOlDgy",
        "outputId": "ff9bd386-416d-495a-b703-471f20be7bb2"
      },
      "source": [
        "condicion = (df2.edad <= 10) | (df2.edad >= 50)\n",
        "df2[condicion]"
      ],
      "execution_count": 57,
      "outputs": [
        {
          "output_type": "stream",
          "name": "stdout",
          "text": [
            "['Buenos Aires' 'Santa Cruz' 'La Rioja' 'Córdoba' 'Misiones' 'Santa Fe'\n",
            " 'Salta' 'San Luis' 'Corrientes' 'Neuquén' nan]\n"
          ]
        }
      ]
    },
    {
      "cell_type": "code",
      "metadata": {
        "colab": {
          "base_uri": "https://localhost:8080/",
          "height": 173
        },
        "id": "T_iVACjsl1z0",
        "outputId": "dd5b1415-f35e-447e-bf46-212f4b095b56"
      },
      "source": [
        "condicion = df1.edad.isin([1,3,5])\n",
        "df2[condicion]"
      ],
      "execution_count": 83,
      "outputs": [
        {
          "output_type": "execute_result",
          "data": {
            "text/html": [
              "<div>\n",
              "<style scoped>\n",
              "    .dataframe tbody tr th:only-of-type {\n",
              "        vertical-align: middle;\n",
              "    }\n",
              "\n",
              "    .dataframe tbody tr th {\n",
              "        vertical-align: top;\n",
              "    }\n",
              "\n",
              "    .dataframe thead th {\n",
              "        text-align: right;\n",
              "    }\n",
              "</style>\n",
              "<table border=\"1\" class=\"dataframe\">\n",
              "  <thead>\n",
              "    <tr style=\"text-align: right;\">\n",
              "      <th></th>\n",
              "      <th>provincia</th>\n",
              "      <th>genero</th>\n",
              "      <th>edad</th>\n",
              "    </tr>\n",
              "  </thead>\n",
              "  <tbody>\n",
              "    <tr>\n",
              "      <th>180</th>\n",
              "      <td>Buenos Aires</td>\n",
              "      <td>femenino</td>\n",
              "      <td>1</td>\n",
              "    </tr>\n",
              "    <tr>\n",
              "      <th>285</th>\n",
              "      <td>Buenos Aires</td>\n",
              "      <td>masculino</td>\n",
              "      <td>1</td>\n",
              "    </tr>\n",
              "    <tr>\n",
              "      <th>291</th>\n",
              "      <td>Buenos Aires</td>\n",
              "      <td>femenino</td>\n",
              "      <td>1</td>\n",
              "    </tr>\n",
              "    <tr>\n",
              "      <th>499</th>\n",
              "      <td>Buenos Aires</td>\n",
              "      <td>femenino</td>\n",
              "      <td>5</td>\n",
              "    </tr>\n",
              "  </tbody>\n",
              "</table>\n",
              "</div>"
            ],
            "text/plain": [
              "        provincia     genero  edad\n",
              "180  Buenos Aires   femenino     1\n",
              "285  Buenos Aires  masculino     1\n",
              "291  Buenos Aires   femenino     1\n",
              "499  Buenos Aires   femenino     5"
            ]
          },
          "metadata": {},
          "execution_count": 83
        }
      ]
    },
    {
      "cell_type": "code",
      "metadata": {
        "colab": {
          "base_uri": "https://localhost:8080/"
        },
        "id": "BBHfyRu21z_f",
        "outputId": "e59b402e-1e16-41e3-fad4-4dcc315549c5"
      },
      "source": [
        "condicion = df1.edad.isin([1,3,5])\n"
      ],
      "execution_count": 84,
      "outputs": [
        {
          "output_type": "execute_result",
          "data": {
            "text/plain": [
              "array([1, 5])"
            ]
          },
          "metadata": {},
          "execution_count": 84
        }
      ]
    },
    {
      "cell_type": "code",
      "metadata": {
        "colab": {
          "base_uri": "https://localhost:8080/",
          "height": 419
        },
        "id": "-99QDJYymRIk",
        "outputId": "7ad57da6-0a6d-4044-94fa-8ca982e5a6ce"
      },
      "source": [
        "condicion = ~df1.edad.isin([1,3,5])\n",
        "df2[condicion]"
      ],
      "execution_count": 79,
      "outputs": [
        {
          "output_type": "execute_result",
          "data": {
            "text/html": [
              "<div>\n",
              "<style scoped>\n",
              "    .dataframe tbody tr th:only-of-type {\n",
              "        vertical-align: middle;\n",
              "    }\n",
              "\n",
              "    .dataframe tbody tr th {\n",
              "        vertical-align: top;\n",
              "    }\n",
              "\n",
              "    .dataframe thead th {\n",
              "        text-align: right;\n",
              "    }\n",
              "</style>\n",
              "<table border=\"1\" class=\"dataframe\">\n",
              "  <thead>\n",
              "    <tr style=\"text-align: right;\">\n",
              "      <th></th>\n",
              "      <th>provincia</th>\n",
              "      <th>genero</th>\n",
              "      <th>edad</th>\n",
              "    </tr>\n",
              "  </thead>\n",
              "  <tbody>\n",
              "    <tr>\n",
              "      <th>0</th>\n",
              "      <td>Buenos Aires</td>\n",
              "      <td>masculino</td>\n",
              "      <td>30</td>\n",
              "    </tr>\n",
              "    <tr>\n",
              "      <th>1</th>\n",
              "      <td>Buenos Aires</td>\n",
              "      <td>femenino</td>\n",
              "      <td>17</td>\n",
              "    </tr>\n",
              "    <tr>\n",
              "      <th>2</th>\n",
              "      <td>Buenos Aires</td>\n",
              "      <td>femenino</td>\n",
              "      <td>12</td>\n",
              "    </tr>\n",
              "    <tr>\n",
              "      <th>3</th>\n",
              "      <td>Buenos Aires</td>\n",
              "      <td>femenino</td>\n",
              "      <td>55</td>\n",
              "    </tr>\n",
              "    <tr>\n",
              "      <th>4</th>\n",
              "      <td>Buenos Aires</td>\n",
              "      <td>masculino</td>\n",
              "      <td>84</td>\n",
              "    </tr>\n",
              "    <tr>\n",
              "      <th>...</th>\n",
              "      <td>...</td>\n",
              "      <td>...</td>\n",
              "      <td>...</td>\n",
              "    </tr>\n",
              "    <tr>\n",
              "      <th>594</th>\n",
              "      <td>Buenos Aires</td>\n",
              "      <td>femenino</td>\n",
              "      <td>23</td>\n",
              "    </tr>\n",
              "    <tr>\n",
              "      <th>595</th>\n",
              "      <td>Buenos Aires</td>\n",
              "      <td>masculino</td>\n",
              "      <td>37</td>\n",
              "    </tr>\n",
              "    <tr>\n",
              "      <th>596</th>\n",
              "      <td>Buenos Aires</td>\n",
              "      <td>femenino</td>\n",
              "      <td>86</td>\n",
              "    </tr>\n",
              "    <tr>\n",
              "      <th>597</th>\n",
              "      <td>Buenos Aires</td>\n",
              "      <td>masculino</td>\n",
              "      <td>36</td>\n",
              "    </tr>\n",
              "    <tr>\n",
              "      <th>598</th>\n",
              "      <td>Buenos Aires</td>\n",
              "      <td>femenino</td>\n",
              "      <td>42</td>\n",
              "    </tr>\n",
              "  </tbody>\n",
              "</table>\n",
              "<p>595 rows × 3 columns</p>\n",
              "</div>"
            ],
            "text/plain": [
              "        provincia     genero  edad\n",
              "0    Buenos Aires  masculino    30\n",
              "1    Buenos Aires   femenino    17\n",
              "2    Buenos Aires   femenino    12\n",
              "3    Buenos Aires   femenino    55\n",
              "4    Buenos Aires  masculino    84\n",
              "..            ...        ...   ...\n",
              "594  Buenos Aires   femenino    23\n",
              "595  Buenos Aires  masculino    37\n",
              "596  Buenos Aires   femenino    86\n",
              "597  Buenos Aires  masculino    36\n",
              "598  Buenos Aires   femenino    42\n",
              "\n",
              "[595 rows x 3 columns]"
            ]
          },
          "metadata": {},
          "execution_count": 79
        }
      ]
    },
    {
      "cell_type": "code",
      "metadata": {
        "colab": {
          "base_uri": "https://localhost:8080/",
          "height": 173
        },
        "id": "Y_hUxfjv1xXc",
        "outputId": "71b5b995-da33-4878-986f-4d7828768c84"
      },
      "source": [
        "df2.head(4)"
      ],
      "execution_count": 92,
      "outputs": [
        {
          "output_type": "execute_result",
          "data": {
            "text/html": [
              "<div>\n",
              "<style scoped>\n",
              "    .dataframe tbody tr th:only-of-type {\n",
              "        vertical-align: middle;\n",
              "    }\n",
              "\n",
              "    .dataframe tbody tr th {\n",
              "        vertical-align: top;\n",
              "    }\n",
              "\n",
              "    .dataframe thead th {\n",
              "        text-align: right;\n",
              "    }\n",
              "</style>\n",
              "<table border=\"1\" class=\"dataframe\">\n",
              "  <thead>\n",
              "    <tr style=\"text-align: right;\">\n",
              "      <th></th>\n",
              "      <th>provincia</th>\n",
              "      <th>genero</th>\n",
              "      <th>edad</th>\n",
              "    </tr>\n",
              "  </thead>\n",
              "  <tbody>\n",
              "    <tr>\n",
              "      <th>0</th>\n",
              "      <td>Buenos Aires</td>\n",
              "      <td>masculino</td>\n",
              "      <td>30</td>\n",
              "    </tr>\n",
              "    <tr>\n",
              "      <th>1</th>\n",
              "      <td>Buenos Aires</td>\n",
              "      <td>femenino</td>\n",
              "      <td>17</td>\n",
              "    </tr>\n",
              "    <tr>\n",
              "      <th>2</th>\n",
              "      <td>Buenos Aires</td>\n",
              "      <td>femenino</td>\n",
              "      <td>12</td>\n",
              "    </tr>\n",
              "    <tr>\n",
              "      <th>3</th>\n",
              "      <td>Buenos Aires</td>\n",
              "      <td>femenino</td>\n",
              "      <td>55</td>\n",
              "    </tr>\n",
              "  </tbody>\n",
              "</table>\n",
              "</div>"
            ],
            "text/plain": [
              "      provincia     genero  edad\n",
              "0  Buenos Aires  masculino    30\n",
              "1  Buenos Aires   femenino    17\n",
              "2  Buenos Aires   femenino    12\n",
              "3  Buenos Aires   femenino    55"
            ]
          },
          "metadata": {},
          "execution_count": 92
        }
      ]
    },
    {
      "cell_type": "code",
      "metadata": {
        "colab": {
          "base_uri": "https://localhost:8080/",
          "height": 450
        },
        "id": "sCD21sp2mhMr",
        "outputId": "1209e2e4-16e5-4453-b378-f574be460fda"
      },
      "source": [
        "df2.groupby([\"edad\"]).agg({'edad':'count'})"
      ],
      "execution_count": 94,
      "outputs": [
        {
          "output_type": "execute_result",
          "data": {
            "text/html": [
              "<div>\n",
              "<style scoped>\n",
              "    .dataframe tbody tr th:only-of-type {\n",
              "        vertical-align: middle;\n",
              "    }\n",
              "\n",
              "    .dataframe tbody tr th {\n",
              "        vertical-align: top;\n",
              "    }\n",
              "\n",
              "    .dataframe thead th {\n",
              "        text-align: right;\n",
              "    }\n",
              "</style>\n",
              "<table border=\"1\" class=\"dataframe\">\n",
              "  <thead>\n",
              "    <tr style=\"text-align: right;\">\n",
              "      <th></th>\n",
              "      <th>edad</th>\n",
              "    </tr>\n",
              "    <tr>\n",
              "      <th>edad</th>\n",
              "      <th></th>\n",
              "    </tr>\n",
              "  </thead>\n",
              "  <tbody>\n",
              "    <tr>\n",
              "      <th>0</th>\n",
              "      <td>2</td>\n",
              "    </tr>\n",
              "    <tr>\n",
              "      <th>1</th>\n",
              "      <td>3</td>\n",
              "    </tr>\n",
              "    <tr>\n",
              "      <th>2</th>\n",
              "      <td>3</td>\n",
              "    </tr>\n",
              "    <tr>\n",
              "      <th>5</th>\n",
              "      <td>1</td>\n",
              "    </tr>\n",
              "    <tr>\n",
              "      <th>6</th>\n",
              "      <td>3</td>\n",
              "    </tr>\n",
              "    <tr>\n",
              "      <th>...</th>\n",
              "      <td>...</td>\n",
              "    </tr>\n",
              "    <tr>\n",
              "      <th>90</th>\n",
              "      <td>1</td>\n",
              "    </tr>\n",
              "    <tr>\n",
              "      <th>91</th>\n",
              "      <td>1</td>\n",
              "    </tr>\n",
              "    <tr>\n",
              "      <th>93</th>\n",
              "      <td>1</td>\n",
              "    </tr>\n",
              "    <tr>\n",
              "      <th>97</th>\n",
              "      <td>1</td>\n",
              "    </tr>\n",
              "    <tr>\n",
              "      <th>99</th>\n",
              "      <td>1</td>\n",
              "    </tr>\n",
              "  </tbody>\n",
              "</table>\n",
              "<p>91 rows × 1 columns</p>\n",
              "</div>"
            ],
            "text/plain": [
              "      edad\n",
              "edad      \n",
              "0        2\n",
              "1        3\n",
              "2        3\n",
              "5        1\n",
              "6        3\n",
              "...    ...\n",
              "90       1\n",
              "91       1\n",
              "93       1\n",
              "97       1\n",
              "99       1\n",
              "\n",
              "[91 rows x 1 columns]"
            ]
          },
          "metadata": {},
          "execution_count": 94
        }
      ]
    },
    {
      "cell_type": "code",
      "metadata": {
        "colab": {
          "base_uri": "https://localhost:8080/"
        },
        "id": "ojq9g2PZoObT",
        "outputId": "c0eefce3-e0f9-483a-e8ef-af8ec8e9a834"
      },
      "source": [
        "df2.agg({'edad':'max'})\n"
      ],
      "execution_count": 63,
      "outputs": [
        {
          "output_type": "execute_result",
          "data": {
            "text/plain": [
              "edad    99\n",
              "dtype: int64"
            ]
          },
          "metadata": {},
          "execution_count": 63
        }
      ]
    },
    {
      "cell_type": "code",
      "metadata": {
        "colab": {
          "base_uri": "https://localhost:8080/"
        },
        "id": "GOJjuZ5Jud8l",
        "outputId": "a081bcda-e624-4aee-f2d8-75482c6ac129"
      },
      "source": [
        "df2.agg({'edad':'min'})"
      ],
      "execution_count": 64,
      "outputs": [
        {
          "output_type": "execute_result",
          "data": {
            "text/plain": [
              "edad    0\n",
              "dtype: int64"
            ]
          },
          "metadata": {},
          "execution_count": 64
        }
      ]
    },
    {
      "cell_type": "code",
      "metadata": {
        "id": "eZ_9fnQP3Rwr"
      },
      "source": [
        "pd.merge(df5,df6,on='nombre_variable',how='inner')\n",
        "pd.merge(df5,df6,on='nombre_variable',how='left')\n",
        "pd.merge(df5,df6,on='nombre_variable',how='right')"
      ],
      "execution_count": null,
      "outputs": []
    },
    {
      "cell_type": "code",
      "metadata": {
        "colab": {
          "base_uri": "https://localhost:8080/"
        },
        "id": "LudS1iHH6s2d",
        "outputId": "28012bc5-83ac-47dc-9273-3322d638339d"
      },
      "source": [
        "df2.edad.min()"
      ],
      "execution_count": 99,
      "outputs": [
        {
          "output_type": "execute_result",
          "data": {
            "text/plain": [
              "0"
            ]
          },
          "metadata": {},
          "execution_count": 99
        }
      ]
    },
    {
      "cell_type": "code",
      "metadata": {
        "colab": {
          "base_uri": "https://localhost:8080/"
        },
        "id": "7eLEuhIC8z76",
        "outputId": "fcef5fd6-4369-429b-9693-f9dfb9338ea2"
      },
      "source": [
        "df2.edad.max()"
      ],
      "execution_count": 100,
      "outputs": [
        {
          "output_type": "execute_result",
          "data": {
            "text/plain": [
              "99"
            ]
          },
          "metadata": {},
          "execution_count": 100
        }
      ]
    },
    {
      "cell_type": "code",
      "metadata": {
        "id": "y83ckV_U_CEM"
      },
      "source": [
        "\n",
        "df6 = df6.drop([\"nombre_col\"],axis=1)\n",
        "df6 = df6.drop([\"nro_indice\"],axis=0)\n",
        "\n"
      ],
      "execution_count": null,
      "outputs": []
    }
  ]
}